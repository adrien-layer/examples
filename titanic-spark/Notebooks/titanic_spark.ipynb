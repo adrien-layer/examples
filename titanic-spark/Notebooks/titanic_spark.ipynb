{
  "nbformat": 4,
  "nbformat_minor": 0,
  "metadata": {
    "colab": {
      "name": "titanic-spark.ipynb",
      "provenance": [],
      "collapsed_sections": []
    },
    "kernelspec": {
      "name": "python3",
      "display_name": "Python 3"
    },
    "language_info": {
      "name": "python"
    }
  },
  "cells": [
    {
      "cell_type": "markdown",
      "metadata": {
        "id": "zJerV8_Rl6jV"
      },
      "source": [
        "### Install Layer"
      ]
    },
    {
      "cell_type": "code",
      "metadata": {
        "colab": {
          "base_uri": "https://localhost:8080/",
          "height": 1000
        },
        "id": "7mKKdB4vk1Uv",
        "outputId": "ef2b9157-4bec-4b6f-efbc-4f04266fe416"
      },
      "source": [
        "pip install layer-sdk"
      ],
      "execution_count": 1,
      "outputs": [
        {
          "output_type": "stream",
          "name": "stdout",
          "text": [
            "Collecting layer-sdk\n",
            "  Downloading layer_sdk-0.8.10-py3-none-any.whl (27.4 MB)\n",
            "\u001b[K     |████████████████████████████████| 27.4 MB 101 kB/s \n",
            "\u001b[?25hCollecting click-help-colors>=0.9.1\n",
            "  Downloading click_help_colors-0.9.1-py3-none-any.whl (5.5 kB)\n",
            "Requirement already satisfied: grpcio>=1.39.0 in /usr/local/lib/python3.7/dist-packages (from layer-sdk) (1.41.0)\n",
            "Requirement already satisfied: networkx>=2.5 in /usr/local/lib/python3.7/dist-packages (from layer-sdk) (2.6.3)\n",
            "Collecting transformers\n",
            "  Downloading transformers-4.11.3-py3-none-any.whl (2.9 MB)\n",
            "\u001b[K     |████████████████████████████████| 2.9 MB 44.6 MB/s \n",
            "\u001b[?25hCollecting pyarrow>=5.0.0\n",
            "  Downloading pyarrow-5.0.0-cp37-cp37m-manylinux2014_x86_64.whl (23.6 MB)\n",
            "\u001b[K     |████████████████████████████████| 23.6 MB 73.2 MB/s \n",
            "\u001b[?25hCollecting validators==0.18.2\n",
            "  Downloading validators-0.18.2-py3-none-any.whl (19 kB)\n",
            "Collecting yarl>=1.6.3\n",
            "  Downloading yarl-1.7.0-cp37-cp37m-manylinux_2_5_x86_64.manylinux1_x86_64.manylinux_2_12_x86_64.manylinux2010_x86_64.whl (271 kB)\n",
            "\u001b[K     |████████████████████████████████| 271 kB 55.0 MB/s \n",
            "\u001b[?25hCollecting click-didyoumean>=0.3.0\n",
            "  Downloading click_didyoumean-0.3.0-py3-none-any.whl (2.7 kB)\n",
            "Requirement already satisfied: Jinja2>=2.11.3 in /usr/local/lib/python3.7/dist-packages (from layer-sdk) (2.11.3)\n",
            "Collecting grpcio-tools>=1.39.0\n",
            "  Downloading grpcio_tools-1.41.1-cp37-cp37m-manylinux_2_17_x86_64.manylinux2014_x86_64.whl (2.4 MB)\n",
            "\u001b[K     |████████████████████████████████| 2.4 MB 63.2 MB/s \n",
            "\u001b[?25hCollecting pyjwt<2.0.0,>=1.7.1\n",
            "  Downloading PyJWT-1.7.1-py2.py3-none-any.whl (18 kB)\n",
            "Requirement already satisfied: idna<3 in /usr/local/lib/python3.7/dist-packages (from layer-sdk) (2.10)\n",
            "Requirement already satisfied: pandas>=1.1.2 in /usr/local/lib/python3.7/dist-packages (from layer-sdk) (1.1.5)\n",
            "Collecting rich~=10.12\n",
            "  Downloading rich-10.12.0-py3-none-any.whl (212 kB)\n",
            "\u001b[K     |████████████████████████████████| 212 kB 55.5 MB/s \n",
            "\u001b[?25hCollecting jsonschema==3.2.0\n",
            "  Downloading jsonschema-3.2.0-py2.py3-none-any.whl (56 kB)\n",
            "\u001b[K     |████████████████████████████████| 56 kB 4.7 MB/s \n",
            "\u001b[?25hCollecting GitPython==3.1.14\n",
            "  Downloading GitPython-3.1.14-py3-none-any.whl (159 kB)\n",
            "\u001b[K     |████████████████████████████████| 159 kB 44.1 MB/s \n",
            "\u001b[?25hCollecting luddite>=1.0.2\n",
            "  Downloading luddite-1.0.2-py2.py3-none-any.whl (9.7 kB)\n",
            "Collecting aiodocker>=0.19.1\n",
            "  Downloading aiodocker-0.21.0-py3-none-any.whl (34 kB)\n",
            "Collecting humanize>=3.11.0\n",
            "  Downloading humanize-3.12.0-py3-none-any.whl (90 kB)\n",
            "\u001b[K     |████████████████████████████████| 90 kB 9.5 MB/s \n",
            "\u001b[?25hCollecting mlflow>=1.20.2\n",
            "  Downloading mlflow-1.21.0-py3-none-any.whl (16.9 MB)\n",
            "\u001b[K     |████████████████████████████████| 16.9 MB 44 kB/s \n",
            "\u001b[?25hCollecting aiohttp[speedups]>=3.7.3\n",
            "  Downloading aiohttp-3.7.4.post0-cp37-cp37m-manylinux2014_x86_64.whl (1.3 MB)\n",
            "\u001b[K     |████████████████████████████████| 1.3 MB 59.1 MB/s \n",
            "\u001b[?25hCollecting prompt-toolkit>=3.0.8\n",
            "  Downloading prompt_toolkit-3.0.21-py3-none-any.whl (374 kB)\n",
            "\u001b[K     |████████████████████████████████| 374 kB 56.5 MB/s \n",
            "\u001b[?25hCollecting cryptography>=3.4.7\n",
            "  Downloading cryptography-35.0.0-cp36-abi3-manylinux_2_24_x86_64.whl (3.5 MB)\n",
            "\u001b[K     |████████████████████████████████| 3.5 MB 46.0 MB/s \n",
            "\u001b[?25hCollecting boto3>=1.16.24\n",
            "  Downloading boto3-1.19.3-py3-none-any.whl (131 kB)\n",
            "\u001b[K     |████████████████████████████████| 131 kB 71.4 MB/s \n",
            "\u001b[?25hCollecting pyspark==3.1.2\n",
            "  Downloading pyspark-3.1.2.tar.gz (212.4 MB)\n",
            "\u001b[K     |████████████████████████████████| 212.4 MB 63 kB/s \n",
            "\u001b[?25hRequirement already satisfied: protobuf>=3.12.0 in /usr/local/lib/python3.7/dist-packages (from layer-sdk) (3.17.3)\n",
            "Collecting polling>=0.3.1\n",
            "  Downloading polling-0.3.2.tar.gz (5.2 kB)\n",
            "Collecting pyyaml>=5.3.1\n",
            "  Downloading PyYAML-6.0-cp37-cp37m-manylinux_2_5_x86_64.manylinux1_x86_64.manylinux_2_12_x86_64.manylinux2010_x86_64.whl (596 kB)\n",
            "\u001b[K     |████████████████████████████████| 596 kB 62.6 MB/s \n",
            "\u001b[?25hCollecting validate-email==1.3\n",
            "  Downloading validate_email-1.3.tar.gz (4.7 kB)\n",
            "Collecting click>=8.0.3\n",
            "  Downloading click-8.0.3-py3-none-any.whl (97 kB)\n",
            "\u001b[K     |████████████████████████████████| 97 kB 6.9 MB/s \n",
            "\u001b[?25hCollecting gitdb<5,>=4.0.1\n",
            "  Downloading gitdb-4.0.9-py3-none-any.whl (63 kB)\n",
            "\u001b[K     |████████████████████████████████| 63 kB 1.8 MB/s \n",
            "\u001b[?25hRequirement already satisfied: setuptools in /usr/local/lib/python3.7/dist-packages (from jsonschema==3.2.0->layer-sdk) (57.4.0)\n",
            "Requirement already satisfied: pyrsistent>=0.14.0 in /usr/local/lib/python3.7/dist-packages (from jsonschema==3.2.0->layer-sdk) (0.18.0)\n",
            "Requirement already satisfied: importlib-metadata in /usr/local/lib/python3.7/dist-packages (from jsonschema==3.2.0->layer-sdk) (4.8.1)\n",
            "Requirement already satisfied: attrs>=17.4.0 in /usr/local/lib/python3.7/dist-packages (from jsonschema==3.2.0->layer-sdk) (21.2.0)\n",
            "Requirement already satisfied: six>=1.11.0 in /usr/local/lib/python3.7/dist-packages (from jsonschema==3.2.0->layer-sdk) (1.15.0)\n",
            "Collecting py4j==0.10.9\n",
            "  Downloading py4j-0.10.9-py2.py3-none-any.whl (198 kB)\n",
            "\u001b[K     |████████████████████████████████| 198 kB 57.0 MB/s \n",
            "\u001b[?25hRequirement already satisfied: decorator>=3.4.0 in /usr/local/lib/python3.7/dist-packages (from validators==0.18.2->layer-sdk) (4.4.2)\n",
            "Requirement already satisfied: typing-extensions>=3.6.5 in /usr/local/lib/python3.7/dist-packages (from aiodocker>=0.19.1->layer-sdk) (3.7.4.3)\n",
            "Requirement already satisfied: chardet<5.0,>=2.0 in /usr/local/lib/python3.7/dist-packages (from aiohttp[speedups]>=3.7.3->layer-sdk) (3.0.4)\n",
            "Collecting async-timeout<4.0,>=3.0\n",
            "  Downloading async_timeout-3.0.1-py3-none-any.whl (8.2 kB)\n",
            "Collecting multidict<7.0,>=4.5\n",
            "  Downloading multidict-5.2.0-cp37-cp37m-manylinux_2_5_x86_64.manylinux1_x86_64.manylinux_2_12_x86_64.manylinux2010_x86_64.whl (160 kB)\n",
            "\u001b[K     |████████████████████████████████| 160 kB 46.3 MB/s \n",
            "\u001b[?25hCollecting brotlipy\n",
            "  Downloading brotlipy-0.7.0-cp37-cp37m-manylinux_2_5_x86_64.manylinux1_x86_64.whl (929 kB)\n",
            "\u001b[K     |████████████████████████████████| 929 kB 42.6 MB/s \n",
            "\u001b[?25hCollecting cchardet\n",
            "  Downloading cchardet-2.1.7-cp37-cp37m-manylinux2010_x86_64.whl (263 kB)\n",
            "\u001b[K     |████████████████████████████████| 263 kB 59.1 MB/s \n",
            "\u001b[?25hCollecting aiodns\n",
            "  Downloading aiodns-3.0.0-py3-none-any.whl (5.0 kB)\n",
            "Collecting s3transfer<0.6.0,>=0.5.0\n",
            "  Downloading s3transfer-0.5.0-py3-none-any.whl (79 kB)\n",
            "\u001b[K     |████████████████████████████████| 79 kB 7.8 MB/s \n",
            "\u001b[?25hCollecting jmespath<1.0.0,>=0.7.1\n",
            "  Downloading jmespath-0.10.0-py2.py3-none-any.whl (24 kB)\n",
            "Collecting botocore<1.23.0,>=1.22.3\n",
            "  Downloading botocore-1.22.3-py3-none-any.whl (8.0 MB)\n",
            "\u001b[K     |████████████████████████████████| 8.0 MB 57.9 MB/s \n",
            "\u001b[?25hCollecting urllib3<1.27,>=1.25.4\n",
            "  Downloading urllib3-1.26.7-py2.py3-none-any.whl (138 kB)\n",
            "\u001b[K     |████████████████████████████████| 138 kB 54.6 MB/s \n",
            "\u001b[?25hRequirement already satisfied: python-dateutil<3.0.0,>=2.1 in /usr/local/lib/python3.7/dist-packages (from botocore<1.23.0,>=1.22.3->boto3>=1.16.24->layer-sdk) (2.8.2)\n",
            "Requirement already satisfied: cffi>=1.12 in /usr/local/lib/python3.7/dist-packages (from cryptography>=3.4.7->layer-sdk) (1.14.6)\n",
            "Requirement already satisfied: pycparser in /usr/local/lib/python3.7/dist-packages (from cffi>=1.12->cryptography>=3.4.7->layer-sdk) (2.20)\n",
            "Collecting smmap<6,>=3.0.1\n",
            "  Downloading smmap-5.0.0-py3-none-any.whl (24 kB)\n",
            "Collecting grpcio>=1.39.0\n",
            "  Downloading grpcio-1.41.1-cp37-cp37m-manylinux_2_17_x86_64.manylinux2014_x86_64.whl (3.9 MB)\n",
            "\u001b[K     |████████████████████████████████| 3.9 MB 43.2 MB/s \n",
            "\u001b[?25hRequirement already satisfied: MarkupSafe>=0.23 in /usr/local/lib/python3.7/dist-packages (from Jinja2>=2.11.3->layer-sdk) (2.0.1)\n",
            "Requirement already satisfied: sqlparse>=0.3.1 in /usr/local/lib/python3.7/dist-packages (from mlflow>=1.20.2->layer-sdk) (0.4.2)\n",
            "Requirement already satisfied: entrypoints in /usr/local/lib/python3.7/dist-packages (from mlflow>=1.20.2->layer-sdk) (0.3)\n",
            "Collecting querystring-parser\n",
            "  Downloading querystring_parser-1.2.4-py2.py3-none-any.whl (7.9 kB)\n",
            "Requirement already satisfied: packaging in /usr/local/lib/python3.7/dist-packages (from mlflow>=1.20.2->layer-sdk) (21.0)\n",
            "Requirement already satisfied: requests>=2.17.3 in /usr/local/lib/python3.7/dist-packages (from mlflow>=1.20.2->layer-sdk) (2.23.0)\n",
            "Collecting alembic<=1.4.1\n",
            "  Downloading alembic-1.4.1.tar.gz (1.1 MB)\n",
            "\u001b[K     |████████████████████████████████| 1.1 MB 52.9 MB/s \n",
            "\u001b[?25hCollecting databricks-cli>=0.8.7\n",
            "  Downloading databricks-cli-0.16.2.tar.gz (58 kB)\n",
            "\u001b[K     |████████████████████████████████| 58 kB 5.3 MB/s \n",
            "\u001b[?25hRequirement already satisfied: cloudpickle in /usr/local/lib/python3.7/dist-packages (from mlflow>=1.20.2->layer-sdk) (1.3.0)\n",
            "Collecting docker>=4.0.0\n",
            "  Downloading docker-5.0.3-py2.py3-none-any.whl (146 kB)\n",
            "\u001b[K     |████████████████████████████████| 146 kB 53.1 MB/s \n",
            "\u001b[?25hRequirement already satisfied: numpy in /usr/local/lib/python3.7/dist-packages (from mlflow>=1.20.2->layer-sdk) (1.19.5)\n",
            "Collecting prometheus-flask-exporter\n",
            "  Downloading prometheus_flask_exporter-0.18.4-py3-none-any.whl (17 kB)\n",
            "Collecting gunicorn\n",
            "  Downloading gunicorn-20.1.0-py3-none-any.whl (79 kB)\n",
            "\u001b[K     |████████████████████████████████| 79 kB 8.8 MB/s \n",
            "\u001b[?25hRequirement already satisfied: pytz in /usr/local/lib/python3.7/dist-packages (from mlflow>=1.20.2->layer-sdk) (2018.9)\n",
            "Requirement already satisfied: sqlalchemy in /usr/local/lib/python3.7/dist-packages (from mlflow>=1.20.2->layer-sdk) (1.4.25)\n",
            "Requirement already satisfied: Flask in /usr/local/lib/python3.7/dist-packages (from mlflow>=1.20.2->layer-sdk) (1.1.4)\n",
            "Collecting Mako\n",
            "  Downloading Mako-1.1.5-py2.py3-none-any.whl (75 kB)\n",
            "\u001b[K     |████████████████████████████████| 75 kB 4.9 MB/s \n",
            "\u001b[?25hCollecting python-editor>=0.3\n",
            "  Downloading python_editor-1.0.4-py3-none-any.whl (4.9 kB)\n",
            "Requirement already satisfied: tabulate>=0.7.7 in /usr/local/lib/python3.7/dist-packages (from databricks-cli>=0.8.7->mlflow>=1.20.2->layer-sdk) (0.8.9)\n",
            "Collecting websocket-client>=0.32.0\n",
            "  Downloading websocket_client-1.2.1-py2.py3-none-any.whl (52 kB)\n",
            "\u001b[K     |████████████████████████████████| 52 kB 1.6 MB/s \n",
            "\u001b[?25hRequirement already satisfied: zipp>=0.5 in /usr/local/lib/python3.7/dist-packages (from importlib-metadata->jsonschema==3.2.0->layer-sdk) (3.6.0)\n",
            "Requirement already satisfied: wcwidth in /usr/local/lib/python3.7/dist-packages (from prompt-toolkit>=3.0.8->layer-sdk) (0.2.5)\n",
            "Collecting urllib3<1.27,>=1.25.4\n",
            "  Downloading urllib3-1.25.11-py2.py3-none-any.whl (127 kB)\n",
            "\u001b[K     |████████████████████████████████| 127 kB 57.4 MB/s \n",
            "\u001b[?25hRequirement already satisfied: certifi>=2017.4.17 in /usr/local/lib/python3.7/dist-packages (from requests>=2.17.3->mlflow>=1.20.2->layer-sdk) (2021.5.30)\n",
            "Requirement already satisfied: pygments<3.0.0,>=2.6.0 in /usr/local/lib/python3.7/dist-packages (from rich~=10.12->layer-sdk) (2.6.1)\n",
            "Collecting colorama<0.5.0,>=0.4.0\n",
            "  Downloading colorama-0.4.4-py2.py3-none-any.whl (16 kB)\n",
            "Collecting commonmark<0.10.0,>=0.9.0\n",
            "  Downloading commonmark-0.9.1-py2.py3-none-any.whl (51 kB)\n",
            "\u001b[K     |████████████████████████████████| 51 kB 7.0 MB/s \n",
            "\u001b[?25hRequirement already satisfied: greenlet!=0.4.17 in /usr/local/lib/python3.7/dist-packages (from sqlalchemy->mlflow>=1.20.2->layer-sdk) (1.1.2)\n",
            "Collecting pycares>=4.0.0\n",
            "  Downloading pycares-4.1.2-cp37-cp37m-manylinux_2_5_x86_64.manylinux1_x86_64.manylinux_2_12_x86_64.manylinux2010_x86_64.whl (291 kB)\n",
            "\u001b[K     |████████████████████████████████| 291 kB 53.4 MB/s \n",
            "\u001b[?25hCollecting Flask\n",
            "  Downloading Flask-2.0.2-py3-none-any.whl (95 kB)\n",
            "\u001b[K     |████████████████████████████████| 95 kB 4.7 MB/s \n",
            "\u001b[?25hCollecting itsdangerous>=2.0\n",
            "  Downloading itsdangerous-2.0.1-py3-none-any.whl (18 kB)\n",
            "Collecting Werkzeug>=2.0\n",
            "  Downloading Werkzeug-2.0.2-py3-none-any.whl (288 kB)\n",
            "\u001b[K     |████████████████████████████████| 288 kB 51.3 MB/s \n",
            "\u001b[?25hCollecting Jinja2>=2.11.3\n",
            "  Downloading Jinja2-3.0.2-py3-none-any.whl (133 kB)\n",
            "\u001b[K     |████████████████████████████████| 133 kB 67.8 MB/s \n",
            "\u001b[?25hRequirement already satisfied: pyparsing>=2.0.2 in /usr/local/lib/python3.7/dist-packages (from packaging->mlflow>=1.20.2->layer-sdk) (2.4.7)\n",
            "Requirement already satisfied: prometheus-client in /usr/local/lib/python3.7/dist-packages (from prometheus-flask-exporter->mlflow>=1.20.2->layer-sdk) (0.11.0)\n",
            "Collecting sacremoses\n",
            "  Downloading sacremoses-0.0.46-py3-none-any.whl (895 kB)\n",
            "\u001b[K     |████████████████████████████████| 895 kB 66.4 MB/s \n",
            "\u001b[?25hRequirement already satisfied: filelock in /usr/local/lib/python3.7/dist-packages (from transformers->layer-sdk) (3.3.0)\n",
            "Collecting tokenizers<0.11,>=0.10.1\n",
            "  Downloading tokenizers-0.10.3-cp37-cp37m-manylinux_2_5_x86_64.manylinux1_x86_64.manylinux_2_12_x86_64.manylinux2010_x86_64.whl (3.3 MB)\n",
            "\u001b[K     |████████████████████████████████| 3.3 MB 46.6 MB/s \n",
            "\u001b[?25hRequirement already satisfied: tqdm>=4.27 in /usr/local/lib/python3.7/dist-packages (from transformers->layer-sdk) (4.62.3)\n",
            "Requirement already satisfied: regex!=2019.12.17 in /usr/local/lib/python3.7/dist-packages (from transformers->layer-sdk) (2019.12.20)\n",
            "Collecting huggingface-hub>=0.0.17\n",
            "  Downloading huggingface_hub-0.0.19-py3-none-any.whl (56 kB)\n",
            "\u001b[K     |████████████████████████████████| 56 kB 5.1 MB/s \n",
            "\u001b[?25hRequirement already satisfied: joblib in /usr/local/lib/python3.7/dist-packages (from sacremoses->transformers->layer-sdk) (1.0.1)\n",
            "Building wheels for collected packages: pyspark, validate-email, alembic, databricks-cli, polling\n",
            "  Building wheel for pyspark (setup.py) ... \u001b[?25l\u001b[?25hdone\n",
            "  Created wheel for pyspark: filename=pyspark-3.1.2-py2.py3-none-any.whl size=212880768 sha256=11b4f0898d4e61191659e82a2e958ec92a1850de7b0439088950d9fa0e7defa3\n",
            "  Stored in directory: /root/.cache/pip/wheels/a5/0a/c1/9561f6fecb759579a7d863dcd846daaa95f598744e71b02c77\n",
            "  Building wheel for validate-email (setup.py) ... \u001b[?25l\u001b[?25hdone\n",
            "  Created wheel for validate-email: filename=validate_email-1.3-py3-none-any.whl size=5482 sha256=0254309c5133ac1368d1193941326ce557885eb7960ec3b000668e635f534a9a\n",
            "  Stored in directory: /root/.cache/pip/wheels/ff/8f/92/c43287715852eaa75e0d8aa1941c481072b4a82c4f4975074e\n",
            "  Building wheel for alembic (setup.py) ... \u001b[?25l\u001b[?25hdone\n",
            "  Created wheel for alembic: filename=alembic-1.4.1-py2.py3-none-any.whl size=158172 sha256=cb55fc1435d500a29729128136a3d25842c43c656a479645fd4df81176ffe716\n",
            "  Stored in directory: /root/.cache/pip/wheels/be/5d/0a/9e13f53f4f5dfb67cd8d245bb7cdffe12f135846f491a283e3\n",
            "  Building wheel for databricks-cli (setup.py) ... \u001b[?25l\u001b[?25hdone\n",
            "  Created wheel for databricks-cli: filename=databricks_cli-0.16.2-py3-none-any.whl size=106811 sha256=c97ddc8367b3e182ae93e1a125e5f99e7cc759d865e94e7ec2f967ec698a185c\n",
            "  Stored in directory: /root/.cache/pip/wheels/f4/5c/ed/e1ce20a53095f63b27b4964abbad03e59cf3472822addf7d29\n",
            "  Building wheel for polling (setup.py) ... \u001b[?25l\u001b[?25hdone\n",
            "  Created wheel for polling: filename=polling-0.3.2-py3-none-any.whl size=4129 sha256=12975f30bae10682546b531932b79574fb54970ff217df4260a53f9670ba0bac\n",
            "  Stored in directory: /root/.cache/pip/wheels/e5/3f/0c/54a03b715fce3176335c957ae94d7d0b2a918e89b1b195bace\n",
            "Successfully built pyspark validate-email alembic databricks-cli polling\n",
            "Installing collected packages: Werkzeug, urllib3, smmap, multidict, jmespath, Jinja2, itsdangerous, click, yarl, websocket-client, pyyaml, python-editor, pycares, Mako, gitdb, Flask, botocore, async-timeout, tokenizers, sacremoses, s3transfer, querystring-parser, py4j, prometheus-flask-exporter, huggingface-hub, gunicorn, grpcio, GitPython, docker, databricks-cli, commonmark, colorama, cchardet, brotlipy, alembic, aiohttp, aiodns, validators, validate-email, transformers, rich, pyspark, pyjwt, pyarrow, prompt-toolkit, polling, mlflow, luddite, jsonschema, humanize, grpcio-tools, cryptography, click-help-colors, click-didyoumean, boto3, aiodocker, layer-sdk\n",
            "  Attempting uninstall: Werkzeug\n",
            "    Found existing installation: Werkzeug 1.0.1\n",
            "    Uninstalling Werkzeug-1.0.1:\n",
            "      Successfully uninstalled Werkzeug-1.0.1\n",
            "  Attempting uninstall: urllib3\n",
            "    Found existing installation: urllib3 1.24.3\n",
            "    Uninstalling urllib3-1.24.3:\n",
            "      Successfully uninstalled urllib3-1.24.3\n",
            "  Attempting uninstall: Jinja2\n",
            "    Found existing installation: Jinja2 2.11.3\n",
            "    Uninstalling Jinja2-2.11.3:\n",
            "      Successfully uninstalled Jinja2-2.11.3\n",
            "  Attempting uninstall: itsdangerous\n",
            "    Found existing installation: itsdangerous 1.1.0\n",
            "    Uninstalling itsdangerous-1.1.0:\n",
            "      Successfully uninstalled itsdangerous-1.1.0\n",
            "  Attempting uninstall: click\n",
            "    Found existing installation: click 7.1.2\n",
            "    Uninstalling click-7.1.2:\n",
            "      Successfully uninstalled click-7.1.2\n",
            "  Attempting uninstall: pyyaml\n",
            "    Found existing installation: PyYAML 3.13\n",
            "    Uninstalling PyYAML-3.13:\n",
            "      Successfully uninstalled PyYAML-3.13\n",
            "  Attempting uninstall: Flask\n",
            "    Found existing installation: Flask 1.1.4\n",
            "    Uninstalling Flask-1.1.4:\n",
            "      Successfully uninstalled Flask-1.1.4\n",
            "  Attempting uninstall: grpcio\n",
            "    Found existing installation: grpcio 1.41.0\n",
            "    Uninstalling grpcio-1.41.0:\n",
            "      Successfully uninstalled grpcio-1.41.0\n",
            "  Attempting uninstall: pyarrow\n",
            "    Found existing installation: pyarrow 3.0.0\n",
            "    Uninstalling pyarrow-3.0.0:\n",
            "      Successfully uninstalled pyarrow-3.0.0\n",
            "  Attempting uninstall: prompt-toolkit\n",
            "    Found existing installation: prompt-toolkit 1.0.18\n",
            "    Uninstalling prompt-toolkit-1.0.18:\n",
            "      Successfully uninstalled prompt-toolkit-1.0.18\n",
            "  Attempting uninstall: jsonschema\n",
            "    Found existing installation: jsonschema 2.6.0\n",
            "    Uninstalling jsonschema-2.6.0:\n",
            "      Successfully uninstalled jsonschema-2.6.0\n",
            "  Attempting uninstall: humanize\n",
            "    Found existing installation: humanize 0.5.1\n",
            "    Uninstalling humanize-0.5.1:\n",
            "      Successfully uninstalled humanize-0.5.1\n",
            "\u001b[31mERROR: pip's dependency resolver does not currently take into account all the packages that are installed. This behaviour is the source of the following dependency conflicts.\n",
            "nbclient 0.5.4 requires jupyter-client>=6.1.5, but you have jupyter-client 5.3.5 which is incompatible.\n",
            "jupyter-console 5.2.0 requires prompt-toolkit<2.0.0,>=1.0.0, but you have prompt-toolkit 3.0.21 which is incompatible.\n",
            "ipython 5.5.0 requires prompt-toolkit<2.0.0,>=1.0.4, but you have prompt-toolkit 3.0.21 which is incompatible.\n",
            "datascience 0.10.6 requires folium==0.2.1, but you have folium 0.8.3 which is incompatible.\u001b[0m\n",
            "Successfully installed Flask-2.0.2 GitPython-3.1.14 Jinja2-3.0.2 Mako-1.1.5 Werkzeug-2.0.2 aiodns-3.0.0 aiodocker-0.21.0 aiohttp-3.7.4.post0 alembic-1.4.1 async-timeout-3.0.1 boto3-1.19.3 botocore-1.22.3 brotlipy-0.7.0 cchardet-2.1.7 click-8.0.3 click-didyoumean-0.3.0 click-help-colors-0.9.1 colorama-0.4.4 commonmark-0.9.1 cryptography-35.0.0 databricks-cli-0.16.2 docker-5.0.3 gitdb-4.0.9 grpcio-1.41.1 grpcio-tools-1.41.1 gunicorn-20.1.0 huggingface-hub-0.0.19 humanize-3.12.0 itsdangerous-2.0.1 jmespath-0.10.0 jsonschema-3.2.0 layer-sdk-0.8.10 luddite-1.0.2 mlflow-1.21.0 multidict-5.2.0 polling-0.3.2 prometheus-flask-exporter-0.18.4 prompt-toolkit-3.0.21 py4j-0.10.9 pyarrow-5.0.0 pycares-4.1.2 pyjwt-1.7.1 pyspark-3.1.2 python-editor-1.0.4 pyyaml-6.0 querystring-parser-1.2.4 rich-10.12.0 s3transfer-0.5.0 sacremoses-0.0.46 smmap-5.0.0 tokenizers-0.10.3 transformers-4.11.3 urllib3-1.25.11 validate-email-1.3 validators-0.18.2 websocket-client-1.2.1 yarl-1.7.0\n"
          ]
        },
        {
          "output_type": "display_data",
          "data": {
            "application/vnd.colab-display-data+json": {
              "pip_warning": {
                "packages": [
                  "prompt_toolkit"
                ]
              }
            }
          },
          "metadata": {}
        }
      ]
    },
    {
      "cell_type": "code",
      "metadata": {
        "colab": {
          "base_uri": "https://localhost:8080/",
          "height": 613
        },
        "id": "1zxc3r-1k-WF",
        "outputId": "f08dbbd1-1d3e-4b78-c26d-c5ca0facc135"
      },
      "source": [
        "pip install -U ipython"
      ],
      "execution_count": 2,
      "outputs": [
        {
          "output_type": "stream",
          "name": "stdout",
          "text": [
            "Requirement already satisfied: ipython in /usr/local/lib/python3.7/dist-packages (5.5.0)\n",
            "Collecting ipython\n",
            "  Downloading ipython-7.28.0-py3-none-any.whl (788 kB)\n",
            "\u001b[K     |████████████████████████████████| 788 kB 8.1 MB/s \n",
            "\u001b[?25hRequirement already satisfied: jedi>=0.16 in /usr/local/lib/python3.7/dist-packages (from ipython) (0.18.0)\n",
            "Requirement already satisfied: pickleshare in /usr/local/lib/python3.7/dist-packages (from ipython) (0.7.5)\n",
            "Requirement already satisfied: prompt-toolkit!=3.0.0,!=3.0.1,<3.1.0,>=2.0.0 in /usr/local/lib/python3.7/dist-packages (from ipython) (3.0.21)\n",
            "Requirement already satisfied: backcall in /usr/local/lib/python3.7/dist-packages (from ipython) (0.2.0)\n",
            "Requirement already satisfied: matplotlib-inline in /usr/local/lib/python3.7/dist-packages (from ipython) (0.1.3)\n",
            "Requirement already satisfied: decorator in /usr/local/lib/python3.7/dist-packages (from ipython) (4.4.2)\n",
            "Requirement already satisfied: pygments in /usr/local/lib/python3.7/dist-packages (from ipython) (2.6.1)\n",
            "Requirement already satisfied: traitlets>=4.2 in /usr/local/lib/python3.7/dist-packages (from ipython) (5.1.0)\n",
            "Requirement already satisfied: pexpect>4.3 in /usr/local/lib/python3.7/dist-packages (from ipython) (4.8.0)\n",
            "Requirement already satisfied: setuptools>=18.5 in /usr/local/lib/python3.7/dist-packages (from ipython) (57.4.0)\n",
            "Requirement already satisfied: parso<0.9.0,>=0.8.0 in /usr/local/lib/python3.7/dist-packages (from jedi>=0.16->ipython) (0.8.2)\n",
            "Requirement already satisfied: ptyprocess>=0.5 in /usr/local/lib/python3.7/dist-packages (from pexpect>4.3->ipython) (0.7.0)\n",
            "Requirement already satisfied: wcwidth in /usr/local/lib/python3.7/dist-packages (from prompt-toolkit!=3.0.0,!=3.0.1,<3.1.0,>=2.0.0->ipython) (0.2.5)\n",
            "Installing collected packages: ipython\n",
            "  Attempting uninstall: ipython\n",
            "    Found existing installation: ipython 5.5.0\n",
            "    Uninstalling ipython-5.5.0:\n",
            "      Successfully uninstalled ipython-5.5.0\n",
            "\u001b[31mERROR: pip's dependency resolver does not currently take into account all the packages that are installed. This behaviour is the source of the following dependency conflicts.\n",
            "jupyter-console 5.2.0 requires prompt-toolkit<2.0.0,>=1.0.0, but you have prompt-toolkit 3.0.21 which is incompatible.\n",
            "google-colab 1.0.0 requires ipython~=5.5.0, but you have ipython 7.28.0 which is incompatible.\u001b[0m\n",
            "Successfully installed ipython-7.28.0\n"
          ]
        },
        {
          "output_type": "display_data",
          "data": {
            "application/vnd.colab-display-data+json": {
              "pip_warning": {
                "packages": [
                  "IPython"
                ]
              }
            }
          },
          "metadata": {}
        }
      ]
    },
    {
      "cell_type": "code",
      "metadata": {
        "colab": {
          "base_uri": "https://localhost:8080/"
        },
        "id": "3OuQLRvclLGS",
        "outputId": "d64e6ea5-9529-4cf4-cacc-08f6735ac71b"
      },
      "source": [
        "import layer\n",
        "layer.login()\n"
      ],
      "execution_count": 1,
      "outputs": [
        {
          "output_type": "stream",
          "name": "stdout",
          "text": [
            "Please open the following link in your web browser. Once logged in, copy the code and paste it here.\n",
            "https://auth.beta.layer.co/authorize?response_type=code&code_challenge=Q0TT83W8cHot-t_sdhYwfNOeakaGUbKvbz_h96agYUc&code_challenge_method=S256&client_id=tvp1Wo8acTt4z46c7MbUB3Rg5MqfmqkN&redirect_uri=https://beta.layer.co/oauth/code&scope=offline_access&audience=https://beta.layer.co\n",
            "Code: udUMcQn08Rlv6D6B\n",
            "Successfully logged into https://beta.layer.co\n"
          ]
        }
      ]
    },
    {
      "cell_type": "markdown",
      "metadata": {
        "id": "AecWhZQymGmp"
      },
      "source": [
        "### fetch the dataset"
      ]
    },
    {
      "cell_type": "code",
      "metadata": {
        "colab": {
          "base_uri": "https://localhost:8080/",
          "height": 204
        },
        "id": "J2lbND3UlMTZ",
        "outputId": "e1d3e976-5c86-4cab-9449-fec712cebcd3"
      },
      "source": [
        "dataset = layer.get_dataset(\"titanic_dataset\")\n",
        "df = dataset.to_pandas()\n",
        "df.head()"
      ],
      "execution_count": 2,
      "outputs": [
        {
          "output_type": "execute_result",
          "data": {
            "text/html": [
              "<div>\n",
              "<style scoped>\n",
              "    .dataframe tbody tr th:only-of-type {\n",
              "        vertical-align: middle;\n",
              "    }\n",
              "\n",
              "    .dataframe tbody tr th {\n",
              "        vertical-align: top;\n",
              "    }\n",
              "\n",
              "    .dataframe thead th {\n",
              "        text-align: right;\n",
              "    }\n",
              "</style>\n",
              "<table border=\"1\" class=\"dataframe\">\n",
              "  <thead>\n",
              "    <tr style=\"text-align: right;\">\n",
              "      <th></th>\n",
              "      <th>SURVIVED</th>\n",
              "      <th>PASSENGERID</th>\n",
              "      <th>EMBARKED</th>\n",
              "      <th>NAME</th>\n",
              "      <th>AGE</th>\n",
              "      <th>SEX</th>\n",
              "      <th>FARE</th>\n",
              "      <th>PARCH</th>\n",
              "      <th>CABIN</th>\n",
              "      <th>TICKET</th>\n",
              "      <th>PCLASS</th>\n",
              "      <th>SIBSP</th>\n",
              "    </tr>\n",
              "  </thead>\n",
              "  <tbody>\n",
              "    <tr>\n",
              "      <th>0</th>\n",
              "      <td>0</td>\n",
              "      <td>1</td>\n",
              "      <td>S</td>\n",
              "      <td>Braund, Mr. Owen Harris</td>\n",
              "      <td>22.0</td>\n",
              "      <td>male</td>\n",
              "      <td>7.2500</td>\n",
              "      <td>0</td>\n",
              "      <td>None</td>\n",
              "      <td>A/5 21171</td>\n",
              "      <td>3</td>\n",
              "      <td>1</td>\n",
              "    </tr>\n",
              "    <tr>\n",
              "      <th>1</th>\n",
              "      <td>1</td>\n",
              "      <td>2</td>\n",
              "      <td>C</td>\n",
              "      <td>Cumings, Mrs. John Bradley (Florence Briggs Th...</td>\n",
              "      <td>38.0</td>\n",
              "      <td>female</td>\n",
              "      <td>71.2833</td>\n",
              "      <td>0</td>\n",
              "      <td>C85</td>\n",
              "      <td>PC 17599</td>\n",
              "      <td>1</td>\n",
              "      <td>1</td>\n",
              "    </tr>\n",
              "    <tr>\n",
              "      <th>2</th>\n",
              "      <td>1</td>\n",
              "      <td>3</td>\n",
              "      <td>S</td>\n",
              "      <td>Heikkinen, Miss. Laina</td>\n",
              "      <td>26.0</td>\n",
              "      <td>female</td>\n",
              "      <td>7.9250</td>\n",
              "      <td>0</td>\n",
              "      <td>None</td>\n",
              "      <td>STON/O2. 3101282</td>\n",
              "      <td>3</td>\n",
              "      <td>0</td>\n",
              "    </tr>\n",
              "    <tr>\n",
              "      <th>3</th>\n",
              "      <td>1</td>\n",
              "      <td>4</td>\n",
              "      <td>S</td>\n",
              "      <td>Futrelle, Mrs. Jacques Heath (Lily May Peel)</td>\n",
              "      <td>35.0</td>\n",
              "      <td>female</td>\n",
              "      <td>53.1000</td>\n",
              "      <td>0</td>\n",
              "      <td>C123</td>\n",
              "      <td>113803</td>\n",
              "      <td>1</td>\n",
              "      <td>1</td>\n",
              "    </tr>\n",
              "    <tr>\n",
              "      <th>4</th>\n",
              "      <td>0</td>\n",
              "      <td>5</td>\n",
              "      <td>S</td>\n",
              "      <td>Allen, Mr. William Henry</td>\n",
              "      <td>35.0</td>\n",
              "      <td>male</td>\n",
              "      <td>8.0500</td>\n",
              "      <td>0</td>\n",
              "      <td>None</td>\n",
              "      <td>373450</td>\n",
              "      <td>3</td>\n",
              "      <td>0</td>\n",
              "    </tr>\n",
              "  </tbody>\n",
              "</table>\n",
              "</div>"
            ],
            "text/plain": [
              "   SURVIVED  PASSENGERID EMBARKED  ...            TICKET  PCLASS SIBSP\n",
              "0         0            1        S  ...         A/5 21171       3     1\n",
              "1         1            2        C  ...          PC 17599       1     1\n",
              "2         1            3        S  ...  STON/O2. 3101282       3     0\n",
              "3         1            4        S  ...            113803       1     1\n",
              "4         0            5        S  ...            373450       3     0\n",
              "\n",
              "[5 rows x 12 columns]"
            ]
          },
          "metadata": {},
          "execution_count": 2
        }
      ]
    },
    {
      "cell_type": "markdown",
      "metadata": {
        "id": "9NG2n2VtmJiW"
      },
      "source": [
        "### Fetch the calculated features as a Spark DataFrame"
      ]
    },
    {
      "cell_type": "code",
      "metadata": {
        "colab": {
          "base_uri": "https://localhost:8080/"
        },
        "id": "1_BuGwtzlQuO",
        "outputId": "faafc8bf-04e1-4b5d-cb2d-00ca614addbc"
      },
      "source": [
        "pf = layer.get_featureset(\"passenger_features_spark\").to_spark()\n",
        "pf.show()"
      ],
      "execution_count": 3,
      "outputs": [
        {
          "output_type": "stream",
          "name": "stdout",
          "text": [
            "+-----------+--------+-------------+---------+--------+---+--------+-----+\n",
            "|PASSENGERID|AGE_BAND|EMBARK_STATUS|FARE_BAND|IS_ALONE|SEX|SURVIVED|TITLE|\n",
            "+-----------+--------+-------------+---------+--------+---+--------+-----+\n",
            "|          1|       1|            0|        0|       0|  1|       0|    1|\n",
            "|          2|       2|            1|        3|       0|  0|       1|    3|\n",
            "|          3|       1|            0|        1|       1|  0|       1|    2|\n",
            "|          4|       2|            0|        3|       0|  0|       1|    3|\n",
            "|          5|       2|            0|        1|       1|  1|       0|    1|\n",
            "|          6|       1|            2|        1|       1|  1|       0|    1|\n",
            "|          7|       3|            0|        3|       1|  1|       0|    1|\n",
            "|          8|       0|            0|        2|       0|  1|       0|    4|\n",
            "|          9|       1|            0|        1|       0|  0|       1|    3|\n",
            "|         10|       0|            1|        2|       0|  0|       1|    3|\n",
            "|         11|       0|            0|        2|       0|  0|       1|    2|\n",
            "|         12|       3|            0|        2|       1|  0|       1|    2|\n",
            "|         13|       1|            0|        1|       1|  1|       0|    1|\n",
            "|         14|       2|            0|        3|       0|  1|       0|    1|\n",
            "|         15|       0|            0|        0|       1|  0|       0|    2|\n",
            "|         16|       3|            0|        2|       1|  0|       1|    3|\n",
            "|         17|       0|            2|        2|       0|  1|       0|    4|\n",
            "|         18|       1|            0|        1|       1|  1|       1|    1|\n",
            "|         19|       1|            0|        2|       0|  0|       0|    3|\n",
            "|         20|       1|            1|        0|       1|  0|       1|    3|\n",
            "+-----------+--------+-------------+---------+--------+---+--------+-----+\n",
            "only showing top 20 rows\n",
            "\n"
          ]
        }
      ]
    },
    {
      "cell_type": "markdown",
      "metadata": {
        "id": "knBJYvhSmWFg"
      },
      "source": [
        "### Explore the Model Catalog"
      ]
    },
    {
      "cell_type": "code",
      "metadata": {
        "colab": {
          "base_uri": "https://localhost:8080/"
        },
        "id": "yGpDN1k6ldzT",
        "outputId": "7af4b3d2-261c-4d6e-efc2-489891ec359b"
      },
      "source": [
        "model = layer.get_model(\"survival_model_spark\")\n",
        "print(model.parameters)\n",
        "print(model.metrics)"
      ],
      "execution_count": 4,
      "outputs": [
        {
          "output_type": "stream",
          "name": "stdout",
          "text": [
            "{'seed': '42', 'test_size': '0.2'}\n",
            "{'BinaryClassificationEvaluator': [(1635250815161, 0.876865671641791)]}\n"
          ]
        }
      ]
    },
    {
      "cell_type": "markdown",
      "metadata": {
        "id": "Y0VnG7UmmaNM"
      },
      "source": [
        "#### Make a prediction"
      ]
    },
    {
      "cell_type": "code",
      "metadata": {
        "id": "jXzfhBKurmg5"
      },
      "source": [
        "!apt-get install openjdk-8-jdk-headless -qq > /dev/null \n",
        "!wget -q https://downloads.apache.org/spark/spark-2.4.8/spark-2.4.8-bin-hadoop2.7.tgz \n",
        "!tar xf spark-2.4.8-bin-hadoop2.7.tgz"
      ],
      "execution_count": 5,
      "outputs": []
    },
    {
      "cell_type": "code",
      "metadata": {
        "id": "4ucZhqIisuQb"
      },
      "source": [
        "import os \n",
        "os.environ[\"JAVA_HOME\"] = \"/usr/lib/jvm/java-8-openjdk-amd64\" \n",
        "os.environ[\"SPARK_HOME\"] = \"/content/spark-2.4.8-bin-hadoop2.7\""
      ],
      "execution_count": 6,
      "outputs": []
    },
    {
      "cell_type": "code",
      "metadata": {
        "colab": {
          "base_uri": "https://localhost:8080/"
        },
        "id": "_e84EO-ys29o",
        "outputId": "a7a51acb-22d5-414a-9f26-071bbcd21bd2"
      },
      "source": [
        "pip install findspark"
      ],
      "execution_count": 7,
      "outputs": [
        {
          "output_type": "stream",
          "name": "stdout",
          "text": [
            "Collecting findspark\n",
            "  Downloading findspark-1.4.2-py2.py3-none-any.whl (4.2 kB)\n",
            "Installing collected packages: findspark\n",
            "Successfully installed findspark-1.4.2\n"
          ]
        }
      ]
    },
    {
      "cell_type": "code",
      "metadata": {
        "id": "zeZcI_SzsxJs"
      },
      "source": [
        "import findspark \n",
        "findspark.init()"
      ],
      "execution_count": 8,
      "outputs": []
    },
    {
      "cell_type": "code",
      "metadata": {
        "id": "jrRcSuJjtFVN"
      },
      "source": [
        "import pyspark\n",
        "sc = pyspark.SparkContext.getOrCreate();"
      ],
      "execution_count": 10,
      "outputs": []
    },
    {
      "cell_type": "code",
      "metadata": {
        "id": "z4PWRu9CsFef"
      },
      "source": [
        "from pyspark.sql import SQLContext\n"
      ],
      "execution_count": 11,
      "outputs": []
    },
    {
      "cell_type": "code",
      "metadata": {
        "id": "zn-7iaSUwGc2"
      },
      "source": [
        "test = sqlContext.createDataFrame([\n",
        "    (0, 0,1,1,0,1),\n",
        "    ], [\"EMBARK_STATUS\", \"FARE_BAND\",\"SEX\",\"AGE_BAND\",\"IS_ALONE\",\"TITLE\"])"
      ],
      "execution_count": 43,
      "outputs": []
    },
    {
      "cell_type": "code",
      "metadata": {
        "colab": {
          "base_uri": "https://localhost:8080/"
        },
        "id": "ta8z2uR6wNS0",
        "outputId": "ad2c59f1-be36-4aa7-d34e-7f7f8a8ea636"
      },
      "source": [
        "test.show()"
      ],
      "execution_count": 44,
      "outputs": [
        {
          "output_type": "stream",
          "name": "stdout",
          "text": [
            "+-------------+---------+---+--------+--------+-----+\n",
            "|EMBARK_STATUS|FARE_BAND|SEX|AGE_BAND|IS_ALONE|TITLE|\n",
            "+-------------+---------+---+--------+--------+-----+\n",
            "|            0|        0|  1|       1|       0|    1|\n",
            "+-------------+---------+---+--------+--------+-----+\n",
            "\n"
          ]
        }
      ]
    },
    {
      "cell_type": "code",
      "metadata": {
        "id": "J6A_acfsyLny"
      },
      "source": [
        "from pyspark.ml.feature import VectorAssembler\n"
      ],
      "execution_count": 42,
      "outputs": []
    },
    {
      "cell_type": "code",
      "metadata": {
        "id": "Jb825kVLyxRP"
      },
      "source": [
        "feat_cols = ['AGE_BAND', 'EMBARK_STATUS', 'FARE_BAND', 'IS_ALONE', 'SEX', 'TITLE']\n",
        "vec_assember = VectorAssembler(inputCols=feat_cols, outputCol='features')\n",
        "test_data = vec_assember.transform(test)"
      ],
      "execution_count": 46,
      "outputs": []
    },
    {
      "cell_type": "code",
      "metadata": {
        "colab": {
          "base_uri": "https://localhost:8080/"
        },
        "id": "UrE2CyIOltGq",
        "outputId": "8d7433a0-a377-4561-b6e6-0a0742d3b8a7"
      },
      "source": [
        "trained_classifier = model.get_train()\n",
        "trained_classifier"
      ],
      "execution_count": 47,
      "outputs": [
        {
          "output_type": "execute_result",
          "data": {
            "text/plain": [
              "PipelineModel_d0c9db1acdf3"
            ]
          },
          "metadata": {},
          "execution_count": 47
        }
      ]
    },
    {
      "cell_type": "code",
      "metadata": {
        "id": "lFsf75GCl0jB"
      },
      "source": [
        "predictions = trained_classifier.transform(test_data)\n"
      ],
      "execution_count": 49,
      "outputs": []
    },
    {
      "cell_type": "code",
      "metadata": {
        "colab": {
          "base_uri": "https://localhost:8080/"
        },
        "id": "htMEYj2K0IlI",
        "outputId": "d8a50d3e-9010-4ea9-cbd4-d5f1bb03cca2"
      },
      "source": [
        "predictions"
      ],
      "execution_count": 50,
      "outputs": [
        {
          "output_type": "execute_result",
          "data": {
            "text/plain": [
              "DataFrame[EMBARK_STATUS: bigint, FARE_BAND: bigint, SEX: bigint, AGE_BAND: bigint, IS_ALONE: bigint, TITLE: bigint, features: vector, rawPrediction: vector, probability: vector, prediction: double]"
            ]
          },
          "metadata": {},
          "execution_count": 50
        }
      ]
    },
    {
      "cell_type": "code",
      "metadata": {
        "colab": {
          "base_uri": "https://localhost:8080/"
        },
        "id": "qyoA6Nnzz-QT",
        "outputId": "80f19d53-9ee3-41cb-809f-46827b03276a"
      },
      "source": [
        "predictions.select('probability','AGE_BAND','prediction','SEX','FARE_BAND','EMBARK_STATUS','IS_ALONE','TITLE').show()\n"
      ],
      "execution_count": 52,
      "outputs": [
        {
          "output_type": "stream",
          "name": "stdout",
          "text": [
            "+--------------------+--------+----------+---+---------+-------------+--------+-----+\n",
            "|         probability|AGE_BAND|prediction|SEX|FARE_BAND|EMBARK_STATUS|IS_ALONE|TITLE|\n",
            "+--------------------+--------+----------+---+---------+-------------+--------+-----+\n",
            "|[0.94872612797609...|       1|       0.0|  1|        0|            0|       0|    1|\n",
            "+--------------------+--------+----------+---+---------+-------------+--------+-----+\n",
            "\n"
          ]
        }
      ]
    },
    {
      "cell_type": "code",
      "metadata": {
        "id": "djdT3fvKn0WK"
      },
      "source": [
        ""
      ],
      "execution_count": null,
      "outputs": []
    }
  ]
}